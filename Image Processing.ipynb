{
 "cells": [
  {
   "cell_type": "markdown",
   "id": "27e96d68",
   "metadata": {},
   "source": [
    "Define Daubechy wavelet transformation function based on percentage and wavelet"
   ]
  },
  {
   "cell_type": "code",
   "execution_count": null,
   "id": "df54bc06",
   "metadata": {},
   "outputs": [],
   "source": [
    "import numpy as np\n",
    "import cv2\n",
    "import pywt\n",
    "import os\n",
    "from numpy.fft import fft2, fftshift, ifft2, ifftshift\n",
    "\n",
    "def zero_coefficients(coeffs, percentage):\n",
    "    cA, (cH, cV, cD) = coeffs\n",
    "    all_coeffs = np.hstack([c.flatten() for c in [cA, cH, cV, cD]])\n",
    "    threshold = np.percentile(np.abs(all_coeffs), percentage)\n",
    "\n",
    "    cA = np.where(np.abs(cA) < threshold, 0, cA)\n",
    "    cH = np.where(np.abs(cH) < threshold, 0, cH)\n",
    "    cV = np.where(np.abs(cV) < threshold, 0, cV)\n",
    "    cD = np.where(np.abs(cD) < threshold, 0, cD)\n",
    "\n",
    "    return cA, (cH, cV, cD)\n",
    "\n",
    "def apply_dwt_and_zero_coefficients_multidim(image, wavelet_name, percentage):\n",
    "    channels = cv2.split(image)\n",
    "    result_channels = []\n",
    "\n",
    "    for channel in channels:\n",
    "        coeffs2 = pywt.dwt2(channel, wavelet_name)\n",
    "        coeffs2_zeroed = zero_coefficients(coeffs2, percentage)\n",
    "        processed_channel = pywt.idwt2(coeffs2_zeroed, wavelet_name)\n",
    "        result_channels.append(processed_channel)\n",
    "\n",
    "    processed_image = cv2.merge(result_channels)\n",
    "    return processed_image"
   ]
  },
  {
   "cell_type": "markdown",
   "id": "f4733cca",
   "metadata": {},
   "source": [
    "Define Fourier function transformation function based on percentage"
   ]
  },
  {
   "cell_type": "code",
   "execution_count": null,
   "id": "abfa966c",
   "metadata": {},
   "outputs": [],
   "source": [
    "def fft_filter_on_color_image(image, percentage):\n",
    "    channels = cv2.split(image)\n",
    "    result_channels = []\n",
    "\n",
    "    for channel in channels:\n",
    "        # Apply FFT\n",
    "        f = fft2(channel)\n",
    "        fshift = fftshift(f)\n",
    "\n",
    "        rows, cols = channel.shape\n",
    "        crow, ccol = rows // 2, cols // 2\n",
    "\n",
    "        mask_size = int(min(rows, cols) * percentage / 100 / 2)\n",
    "        mask = np.zeros((rows, cols), np.uint8)\n",
    "        mask[crow-mask_size:crow+mask_size, ccol-mask_size:ccol+mask_size] = 1\n",
    "\n",
    "        fshift_masked = fshift * mask\n",
    "        f_ishift = ifft2(ifftshift(fshift_masked))\n",
    "        img_back = np.abs(f_ishift)\n",
    "\n",
    "        result_channels.append(img_back)\n",
    "\n",
    "    processed_image = cv2.merge(result_channels)\n",
    "    return processed_image"
   ]
  },
  {
   "cell_type": "code",
   "execution_count": null,
   "id": "1fbecc79",
   "metadata": {},
   "outputs": [],
   "source": [
    "HOME = os.getcwd()\n",
    "print(\"HOME:\", HOME)"
   ]
  },
  {
   "cell_type": "markdown",
   "id": "24fffaa7",
   "metadata": {},
   "source": [
    "Apply DWT to the segmented image"
   ]
  },
  {
   "cell_type": "code",
   "execution_count": null,
   "id": "2cf47b02",
   "metadata": {},
   "outputs": [],
   "source": [
    "percentage = ...# choose from 1,5,20\n",
    "wavelet = ...# choose from db1, db2, db3\n",
    "\n",
    "dataset_path = os.path.join(HOME, 'Original_segmentation', 'train')\n",
    "output_path = os.path.join(HOME, f'DWT_{wavelet}_{perecntage}%_segmentation', 'train')\n",
    "\n",
    "os.makedirs(output_path, exist_ok=True)\n",
    "\n",
    "\n",
    "\n",
    "for folder_name in os.listdir(dataset_path):\n",
    "    folder_path = os.path.join(dataset_path, folder_name)\n",
    "    target_folder_path = os.path.join(output_path, folder_name)\n",
    "\n",
    "    os.makedirs(target_folder_path, exist_ok=True)\n",
    "\n",
    "    for image_filename in os.listdir(folder_path):\n",
    "        image_path = os.path.join(folder_path, image_filename)\n",
    "        image = cv2.imread(image_path)        \n",
    "        processed_image = apply_dwt_and_zero_coefficients_multidim(image, wavelet, percentage)\n",
    "        processed_image = np.clip(processed_image, 0, 255).astype(np.uint8)\n",
    "        output_filename = f'DWT_{wavelet}_{percentage}%_{image_filename}.png'\n",
    "        cv2.imwrite(os.path.join(target_folder_path, output_filename), processed_image)\n"
   ]
  },
  {
   "cell_type": "markdown",
   "id": "9d6cd64b",
   "metadata": {},
   "source": [
    "Apply FFT to the segmented image"
   ]
  },
  {
   "cell_type": "code",
   "execution_count": null,
   "id": "29faed29",
   "metadata": {},
   "outputs": [],
   "source": [
    "percentage = ...# choose from 1,5,20\n",
    "\n",
    "dataset_path = os.path.join(HOME, 'Original_segmentation', 'train')\n",
    "output_path = os.path.join(HOME, f'FFT_{percentage}%_segmentation', 'train')\n",
    "\n",
    "os.makedirs(output_path, exist_ok=True)\n",
    "\n",
    "for folder_name in os.listdir(dataset_path):\n",
    "    folder_path = os.path.join(dataset_path, folder_name)\n",
    "    target_folder_path = os.path.join(output_path, folder_name)\n",
    "\n",
    "    os.makedirs(target_folder_path, exist_ok=True)\n",
    "\n",
    "    for image_filename in os.listdir(folder_path):\n",
    "        image_path = os.path.join(folder_path, image_filename)\n",
    "        image = cv2.imread(image_path)        \n",
    "        filtered_image = fft_filter_on_color_image(image, percentage)\n",
    "        output_filename = f'FFT_{percentage}%_{image_filename}.png'\n",
    "        cv2.imwrite(os.path.join(target_folder_path, output_filename), filtered_image)\n"
   ]
  },
  {
   "cell_type": "markdown",
   "id": "56154893",
   "metadata": {},
   "source": [
    "Create a huggingface dataset and push to hub"
   ]
  },
  {
   "cell_type": "code",
   "execution_count": null,
   "id": "a5bb4902",
   "metadata": {},
   "outputs": [],
   "source": [
    "from huggingface_hub import notebook_login\n",
    "\n",
    "notebook_login()"
   ]
  },
  {
   "cell_type": "code",
   "execution_count": null,
   "id": "da03ff79",
   "metadata": {},
   "outputs": [],
   "source": [
    "import os\n",
    "from datasets import load_dataset\n",
    "data_dir = os.path.join(HOME, f'DWT_{wavelet}_{percentage}%_segmentation', 'train')\n",
    "dataset = load_dataset(\"imagefolder\", data_dir=data_dir)\n",
    "wbc = dataset"
   ]
  },
  {
   "cell_type": "code",
   "execution_count": null,
   "id": "5d254969",
   "metadata": {},
   "outputs": [],
   "source": [
    "wbc.push_to_hub(f\"Boom4869/DWT_{wavelet}_{percentage}per_WBC\", private=True)"
   ]
  }
 ],
 "metadata": {
  "kernelspec": {
   "display_name": "Python 3 (ipykernel)",
   "language": "python",
   "name": "python3"
  },
  "language_info": {
   "codemirror_mode": {
    "name": "ipython",
    "version": 3
   },
   "file_extension": ".py",
   "mimetype": "text/x-python",
   "name": "python",
   "nbconvert_exporter": "python",
   "pygments_lexer": "ipython3",
   "version": "3.11.5"
  }
 },
 "nbformat": 4,
 "nbformat_minor": 5
}
